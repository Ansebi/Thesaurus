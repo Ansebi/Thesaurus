{
 "cells": [
  {
   "cell_type": "markdown",
   "metadata": {},
   "source": [
    "# Option A: from CSV (TODO: word - keys one2many issue persisting)"
   ]
  },
  {
   "cell_type": "code",
   "execution_count": 33,
   "metadata": {},
   "outputs": [],
   "source": [
    "import pandas as pd"
   ]
  },
  {
   "cell_type": "code",
   "execution_count": 34,
   "metadata": {},
   "outputs": [],
   "source": [
    "DATA_FOLDER = 'data'\n",
    "CSV_FOLDER = 'WordNet-DictionaryThesaurus'\n",
    "SYNONYMS_FILENAME = 'WordnetSynonyms.csv'\n",
    "FREQUENCY_FILENAME = 'word-freq-top5000.csv'\n",
    "MIN_WORD_LEN = 7"
   ]
  },
  {
   "cell_type": "code",
   "execution_count": 35,
   "metadata": {},
   "outputs": [],
   "source": [
    "synonyms_path = f'{DATA_FOLDER}/{CSV_FOLDER}/{SYNONYMS_FILENAME}'\n",
    "frequency_path = f'{DATA_FOLDER}/{CSV_FOLDER}/{FREQUENCY_FILENAME}'\n",
    "df_synonyms = pd.read_csv(synonyms_path)\n",
    "df_frequency = pd.read_csv(frequency_path)"
   ]
  },
  {
   "cell_type": "code",
   "execution_count": 36,
   "metadata": {},
   "outputs": [],
   "source": [
    "def flatten(lst):\n",
    "    \"\"\"\n",
    "    Example:\n",
    "    lst = [1, 2, [3, [4, 5]], [6, 7, 8], 9, [10, 11]]\\n\n",
    "    print(flatten(lst))\n",
    "    >>> [1, 2, 3, 4, 5, 6, 7, 8, 9, 10, 11]\n",
    "    \"\"\"\n",
    "    result = []\n",
    "    for item in lst:\n",
    "        if isinstance(item, list):\n",
    "            result.extend(flatten(item))\n",
    "        else:\n",
    "            result.append(item)\n",
    "    return result"
   ]
  },
  {
   "cell_type": "code",
   "execution_count": 37,
   "metadata": {},
   "outputs": [
    {
     "data": {
      "text/plain": [
       "('agreement',\n",
       " ['understanding', 'correspondence', 'accord', 'arrangement', 'concord'])"
      ]
     },
     "execution_count": 37,
     "metadata": {},
     "output_type": "execute_result"
    }
   ],
   "source": [
    "frequent_words = [word for word in df_frequency.Word if len(word) >= MIN_WORD_LEN]\n",
    "df_frequent_synonyms = df_synonyms[df_synonyms['Word'].isin(frequent_words)]\n",
    "\n",
    "frequent_synonyms_dict = {}\n",
    "for index, row in df_frequent_synonyms.iterrows():\n",
    "    word = row['Word']\n",
    "    synonyms = row['Synonyms'].split(';')\n",
    "    synonyms = [word.split('|') for word in synonyms]\n",
    "    synonyms = flatten(synonyms)\n",
    "    if word not in frequent_synonyms_dict:\n",
    "        frequent_synonyms_dict[word] = synonyms\n",
    "    else:\n",
    "        frequent_synonyms_dict[word].extend(synonyms)\n",
    "\n",
    "word = 'agreement'\n",
    "synonyms = frequent_synonyms_dict['agreement']\n",
    "word, synonyms\n",
    "\n"
   ]
  },
  {
   "cell_type": "markdown",
   "metadata": {},
   "source": [
    "# Option B: from .jsonl"
   ]
  },
  {
   "cell_type": "code",
   "execution_count": 38,
   "metadata": {},
   "outputs": [],
   "source": [
    "import json"
   ]
  },
  {
   "cell_type": "code",
   "execution_count": 40,
   "metadata": {},
   "outputs": [],
   "source": [
    "DATA_FOLDER = 'data'\n",
    "SYNONYMS_FILENAME = 'en_thesaurus.jsonl'\n",
    "FREQUENCY_FILENAME = 'unigram_freq.csv'\n",
    "MIN_WORD_LEN = 7\n",
    "FREQUENCY_FLOOR = 5000"
   ]
  },
  {
   "cell_type": "code",
   "execution_count": 41,
   "metadata": {},
   "outputs": [],
   "source": [
    "synonyms_path = f'{DATA_FOLDER}/{SYNONYMS_FILENAME}'\n",
    "frequency_path = f'{DATA_FOLDER}/{FREQUENCY_FILENAME}'\n",
    "synonyms_entry_list = [json.loads(entry) for entry in open(synonyms_path)]\n",
    "df_frequency = pd.read_csv(frequency_path)"
   ]
  },
  {
   "cell_type": "code",
   "execution_count": 42,
   "metadata": {},
   "outputs": [
    {
     "name": "stdout",
     "output_type": "stream",
     "text": [
      "................."
     ]
    }
   ],
   "source": [
    "synonyms_dict = {}\n",
    "for n, entry in enumerate(synonyms_entry_list):\n",
    "    word = entry['word']\n",
    "    pos = entry['pos']\n",
    "    synonyms = entry['synonyms']\n",
    "    if word in synonyms_dict:\n",
    "        synonyms_dict[word]['synonyms'].extend(synonyms)\n",
    "        synonyms_dict[word]['pos'].append(pos)\n",
    "        synonyms_dict[word]['pos'] = list(set(synonyms_dict[word]['pos']))\n",
    "    else:\n",
    "        synonyms_dict[word] = {\n",
    "            'pos': [pos],\n",
    "            'synonyms': synonyms\n",
    "        }\n",
    "    if not n % 10000:\n",
    "        print('.', end='')"
   ]
  },
  {
   "cell_type": "code",
   "execution_count": 43,
   "metadata": {},
   "outputs": [],
   "source": [
    "frequent_words = [word for word in df_frequency[:FREQUENCY_FLOOR]['word'].astype(str) if len(word) >= MIN_WORD_LEN]\n",
    "frequent_synonyms = [word for word in frequent_words if word in synonyms_dict]"
   ]
  },
  {
   "cell_type": "code",
   "execution_count": 44,
   "metadata": {},
   "outputs": [
    {
     "data": {
      "text/plain": [
       "('agreement',\n",
       " ['accord', 'arrangement', 'concord', 'correspondence', 'understanding'])"
      ]
     },
     "execution_count": 44,
     "metadata": {},
     "output_type": "execute_result"
    }
   ],
   "source": [
    "word = frequent_synonyms[138]\n",
    "synonyms = synonyms_dict[word]['synonyms']\n",
    "word, synonyms"
   ]
  }
 ],
 "metadata": {
  "kernelspec": {
   "display_name": "Python 3",
   "language": "python",
   "name": "python3"
  },
  "language_info": {
   "codemirror_mode": {
    "name": "ipython",
    "version": 3
   },
   "file_extension": ".py",
   "mimetype": "text/x-python",
   "name": "python",
   "nbconvert_exporter": "python",
   "pygments_lexer": "ipython3",
   "version": "3.11.1"
  },
  "orig_nbformat": 4
 },
 "nbformat": 4,
 "nbformat_minor": 2
}
